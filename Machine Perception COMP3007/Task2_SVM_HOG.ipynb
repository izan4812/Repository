{
  "nbformat": 4,
  "nbformat_minor": 0,
  "metadata": {
    "colab": {
      "provenance": [],
      "collapsed_sections": []
    },
    "kernelspec": {
      "name": "python3",
      "display_name": "Python 3"
    },
    "language_info": {
      "name": "python"
    }
  },
  "cells": [
    {
      "cell_type": "code",
      "execution_count": null,
      "metadata": {
        "colab": {
          "base_uri": "https://localhost:8080/"
        },
        "id": "QmYNW9e-Rp4C",
        "outputId": "cc73666b-f7d2-4265-fcf9-1d1856aa2177"
      },
      "outputs": [
        {
          "output_type": "stream",
          "name": "stdout",
          "text": [
            "Mounted at /content/drive/\n"
          ]
        }
      ],
      "source": [
        "#Code to connect your google drive with google colaboratory\n",
        "from google.colab import drive \n",
        "drive.mount('/content/drive/')"
      ]
    },
    {
      "cell_type": "code",
      "source": [
        "import os\n",
        "from skimage.feature import hog\n",
        "from sklearn.preprocessing import LabelEncoder\n",
        "from sklearn.svm import SVC\n",
        "import numpy as np\n",
        "from sklearn.metrics import classification_report\n",
        "import cv2 as cv\n",
        "from scipy.stats import norm"
      ],
      "metadata": {
        "id": "IfE4qKObRuX2"
      },
      "execution_count": null,
      "outputs": []
    },
    {
      "cell_type": "code",
      "source": [
        "#Prepare the dataset\n",
        "\n",
        "#train dataset\n",
        "\n",
        "\n",
        "positiveTrainImagePath = []\n",
        "\n",
        "positiveTrainingExamples = '/content/drive/MyDrive/MPAssignment/Data/coralImageClassification/train/ImagesLabelledPositive'\n",
        "\n",
        "for filename in os.listdir(positiveTrainingExamples):\n",
        "  if filename.endswith(\".jpg\") or filename.endswith(\".png\") or filename.endswith(\".jpg\"):\n",
        "    positiveTrainImagePath.append(os.path.join(positiveTrainingExamples, filename))\n",
        "\n",
        "positiveTrainImagePath.sort(key=lambda f: int(''.join(filter(str.isdigit, f))))\n",
        "\n",
        "\n",
        "negativeTrainImagePath = []\n",
        "\n",
        "negativeTrainingExamples = '/content/drive/MyDrive/MPAssignment/Data/coralImageClassification/train/ImagesLabelledNegative'\n",
        "\n",
        "for filename in os.listdir(negativeTrainingExamples):\n",
        "  if filename.endswith(\".jpg\") or filename.endswith(\".png\") or filename.endswith(\".jpg\"):\n",
        "    negativeTrainImagePath.append(os.path.join(negativeTrainingExamples, filename))\n",
        "\n",
        "\n",
        "\n",
        "negativeTrainImagePath.sort(key=lambda f: int(''.join(filter(str.isdigit, f))))\n",
        "\n",
        "\n",
        "\n",
        "#val dataset\n",
        "\n",
        "\n",
        "positiveValImagePath = []\n",
        "\n",
        "positiveTrainingExamples = '/content/drive/MyDrive/MPAssignment/Data/coralImageClassification/val/ImagesLabelledPositive'\n",
        "\n",
        "for filename in os.listdir(positiveTrainingExamples):\n",
        "  if filename.endswith(\".jpg\") or filename.endswith(\".png\") or filename.endswith(\".jpg\"):\n",
        "    positiveValImagePath.append(os.path.join(positiveTrainingExamples, filename))\n",
        "\n",
        "\n",
        "positiveValImagePath.sort(key=lambda f: int(''.join(filter(str.isdigit, f))))\n",
        "\n",
        "negativeValImagePath = []\n",
        "\n",
        "negativeTrainingExamples = '/content/drive/MyDrive/MPAssignment/Data/coralImageClassification/val/ImagesLabelledNegative'\n",
        "\n",
        "for filename in os.listdir(negativeTrainingExamples):\n",
        "  if filename.endswith(\".jpg\") or filename.endswith(\".png\") or filename.endswith(\".jpg\"):\n",
        "    negativeValImagePath.append(os.path.join(negativeTrainingExamples, filename))\n",
        "\n",
        "\n",
        "negativeValImagePath.sort(key=lambda f: int(''.join(filter(str.isdigit, f))))\n"
      ],
      "metadata": {
        "id": "33Zxv4tRRwCf"
      },
      "execution_count": null,
      "outputs": []
    },
    {
      "cell_type": "code",
      "source": [
        "positiveTestingImagePath = []\n",
        "\n",
        "positiveTrainingExamples = 'drive/MyDrive/MPAssignment/Testing Data_withLabels/CoralImageClassification/Coral Images'\n",
        "\n",
        "for filename in os.listdir(positiveTrainingExamples):\n",
        "  if filename.endswith(\".jpg\") or filename.endswith(\".png\") or filename.endswith(\".jpg\"):\n",
        "    positiveTestingImagePath.append(os.path.join(positiveTrainingExamples, filename))\n",
        "\n",
        "positiveTestingImagePath.sort(key=lambda f: int(''.join(filter(str.isdigit, f))))\n",
        "\n",
        "negativeTestingImagePath = []\n",
        "\n",
        "negativeTrainingExamples = 'drive/MyDrive/MPAssignment/Testing Data_withLabels/CoralImageClassification/Non-Coral Images'\n",
        "\n",
        "for filename in os.listdir(negativeTrainingExamples):\n",
        "  if filename.endswith(\".jpg\") or filename.endswith(\".png\") or filename.endswith(\".jpg\"):\n",
        "    negativeTestingImagePath .append(os.path.join(negativeTrainingExamples, filename))\n",
        "\n",
        "negativeTestingImagePath .sort(key=lambda f: int(''.join(filter(str.isdigit, f))))\n"
      ],
      "metadata": {
        "id": "pz8ki59XZuvt"
      },
      "execution_count": null,
      "outputs": []
    },
    {
      "cell_type": "code",
      "source": [
        "# compute HOG features and label them:\n",
        "\n",
        "trainData = []\n",
        "trainLabels = []\n",
        "\n",
        "for file in positiveTrainImagePath: #this loop enables reading the files in the pos_im_listing variable one by one\n",
        "    img = cv.imread(file) # open the file\n",
        "    img = cv.resize(img, (128*4, 64*4))\n",
        "    # calculate HOG for positive features\n",
        "    fd, hog_image = hog(img, orientations=9, pixels_per_cell=(8, 8), cells_per_block=(2, 2), visualize=True, multichannel=True)# fd= feature descriptor\n",
        "    trainData.append(fd)\n",
        "    trainLabels.append(1)\n",
        "\n",
        "for file in negativeTrainImagePath: #this loop enables reading the files in the pos_im_listing variable one by one\n",
        "    img = cv.imread(file) # open the file\n",
        "    img = cv.resize(img, (128*4, 64*4))\n",
        "    # calculate HOG for positive features\n",
        "    fd, hog_image = hog(img, orientations=9, pixels_per_cell=(8, 8), cells_per_block=(2, 2), visualize=True, multichannel=True)# fd= feature descriptor\n",
        "    trainData.append(fd)\n",
        "    trainLabels.append(-1)\n",
        "\n",
        "valData = []\n",
        "valLabels = []\n",
        "\n",
        "for file in positiveValImagePath: #this loop enables reading the files in the pos_im_listing variable one by one\n",
        "    img = cv.imread(file) # open the file\n",
        "    img = cv.resize(img, (128*4, 64*4))\n",
        "    # calculate HOG for positive features\n",
        "    fd, hog_image = hog(img, orientations=9, pixels_per_cell=(8, 8), cells_per_block=(2, 2), visualize=True, multichannel=True)# fd= feature descriptor\n",
        "    valData.append(fd)\n",
        "    valLabels.append(1)\n",
        "\n",
        "for file in negativeValImagePath: #this loop enables reading the files in the pos_im_listing variable one by one\n",
        "    img = cv.imread(file) # open the file\n",
        "    img = cv.resize(img, (128*4, 64*4))\n",
        "    # calculate HOG for positive features\n",
        "    fd, hog_image = hog(img, orientations=9, pixels_per_cell=(8, 8), cells_per_block=(2, 2), visualize=True, multichannel=True)# fd= feature descriptor\n",
        "    valData.append(fd)\n",
        "    valLabels.append(-1)\n",
        "\n",
        "testData = []\n",
        "testLabels = []\n",
        "\n",
        "for file in positiveTestingImagePath: #this loop enables reading the files in the pos_im_listing variable one by one\n",
        "    img = cv.imread(file) # open the file\n",
        "    img = cv.resize(img, (128*4, 64*4))\n",
        "    # calculate HOG for positive features\n",
        "    fd, hog_image = hog(img, orientations=9, pixels_per_cell=(8, 8), cells_per_block=(2, 2), visualize=True, multichannel=True)# fd= feature descriptor\n",
        "    testData.append(fd)\n",
        "    testLabels.append(1)\n",
        "\n",
        "for file in negativeTestingImagePath: #this loop enables reading the files in the pos_im_listing variable one by one\n",
        "    img = cv.imread(file) # open the file\n",
        "    img = cv.resize(img, (128*4, 64*4))\n",
        "    # calculate HOG for positive features\n",
        "    fd, hog_image = hog(img, orientations=9, pixels_per_cell=(8, 8), cells_per_block=(2, 2), visualize=True, multichannel=True)# fd= feature descriptor\n",
        "    testData.append(fd)\n",
        "    testLabels.append(-1)"
      ],
      "metadata": {
        "id": "Mf9f939ZSxGK"
      },
      "execution_count": null,
      "outputs": []
    },
    {
      "cell_type": "code",
      "source": [
        "#based on: https://www.kaggle.com/code/manikg/training-svm-classifier-with-hog-features/notebook\n",
        "\n",
        "#convert to np array\n",
        "trainData = np.array(trainData)\n",
        "valData = np.array(valData)\n",
        "\n",
        "#svm\n",
        "model = SVC(gamma='scale',kernel='rbf', C=1)\n",
        "\n",
        "model.fit(trainData, trainLabels)\n",
        "\n",
        "#predict on validation data\n",
        "predictions = model.predict(valData)\n",
        "print(classification_report(valLabels, predictions))\n",
        "\n"
      ],
      "metadata": {
        "id": "GkC22lqqYF7b",
        "colab": {
          "base_uri": "https://localhost:8080/"
        },
        "outputId": "b79310b9-cb74-44c6-c596-a093e00b40e4"
      },
      "execution_count": null,
      "outputs": [
        {
          "output_type": "stream",
          "name": "stdout",
          "text": [
            "              precision    recall  f1-score   support\n",
            "\n",
            "          -1       0.98      1.00      0.99       341\n",
            "           1       1.00      0.96      0.98       200\n",
            "\n",
            "    accuracy                           0.99       541\n",
            "   macro avg       0.99      0.98      0.98       541\n",
            "weighted avg       0.99      0.99      0.99       541\n",
            "\n"
          ]
        }
      ]
    },
    {
      "cell_type": "code",
      "source": [
        "from sklearn.metrics import accuracy_score\n",
        "\n",
        "print(accuracy_score(valLabels, predictions) * 100)\n"
      ],
      "metadata": {
        "id": "FUzbiKET7zM_",
        "colab": {
          "base_uri": "https://localhost:8080/"
        },
        "outputId": "6f8eff73-fc30-4898-ce92-ce0edaef06fc"
      },
      "execution_count": null,
      "outputs": [
        {
          "output_type": "stream",
          "name": "stdout",
          "text": [
            "98.52125693160814\n"
          ]
        }
      ]
    },
    {
      "cell_type": "code",
      "source": [
        "#predict on validation data\n",
        "predictions = model.predict(testData)\n",
        "print(classification_report(testLabels, predictions))\n",
        "\n"
      ],
      "metadata": {
        "colab": {
          "base_uri": "https://localhost:8080/"
        },
        "id": "lsaOniU6m0Cd",
        "outputId": "63b74b43-cd38-4905-979d-4ac58f8045db"
      },
      "execution_count": null,
      "outputs": [
        {
          "output_type": "stream",
          "name": "stdout",
          "text": [
            "              precision    recall  f1-score   support\n",
            "\n",
            "          -1       0.98      0.98      0.98       200\n",
            "           1       0.98      0.98      0.98       200\n",
            "\n",
            "    accuracy                           0.98       400\n",
            "   macro avg       0.98      0.98      0.98       400\n",
            "weighted avg       0.98      0.98      0.98       400\n",
            "\n"
          ]
        }
      ]
    },
    {
      "cell_type": "code",
      "source": [
        "print(accuracy_score(testLabels, predictions) * 100)\n"
      ],
      "metadata": {
        "colab": {
          "base_uri": "https://localhost:8080/"
        },
        "id": "IwTq9x7Um8q5",
        "outputId": "fc3f10fd-cc9e-41bf-90b4-c883ffd6ede2"
      },
      "execution_count": null,
      "outputs": [
        {
          "output_type": "stream",
          "name": "stdout",
          "text": [
            "98.5\n"
          ]
        }
      ]
    },
    {
      "cell_type": "code",
      "source": [
        "with open(r'drive/MyDrive/MPAssignment/Testing Data_withLabels/CoralImageClassification/predictedLabels.txt', 'w') as fp:\n",
        "    for item in predictions:  ## labels is a list of the predicted labels, 1 for corals, -1 for non-corals\n",
        "        # write each item on a new line\n",
        "        fp.write(\"%s\\n\" % item)"
      ],
      "metadata": {
        "id": "uqBXPtFmuDPx"
      },
      "execution_count": null,
      "outputs": []
    }
  ]
}